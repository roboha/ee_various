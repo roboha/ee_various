{
 "cells": [
  {
   "cell_type": "code",
   "execution_count": 1,
   "metadata": {},
   "outputs": [
    {
     "name": "stdout",
     "output_type": "stream",
     "text": [
      "Paste the following address into a web browser:\n",
      "\n",
      "    https://accounts.google.com/o/oauth2/auth?redirect_uri=urn%3Aietf%3Awg%3Aoauth%3A2.0%3Aoob&client_id=517222506229-vsmmajv00ul0bs7p89v5m89qs8eb9359.apps.googleusercontent.com&response_type=code&scope=https%3A%2F%2Fwww.googleapis.com%2Fauth%2Fearthengine+https%3A%2F%2Fwww.googleapis.com%2Fauth%2Fdevstorage.full_control\n",
      "\n",
      "On the web page, please authorize access to your Earth Engine account and copy the authentication code. Next authenticate with the following command:\n",
      "\n",
      "    earthengine authenticate --authorization-code=PLACE_AUTH_CODE_HERE\n",
      "\n"
     ]
    }
   ],
   "source": [
    "%%bash\n",
    "earthengine authenticate --quiet"
   ]
  },
  {
   "cell_type": "code",
   "execution_count": 2,
   "metadata": {},
   "outputs": [
    {
     "name": "stdout",
     "output_type": "stream",
     "text": [
      "\n",
      "Successfully saved authorization token.\n"
     ]
    }
   ],
   "source": [
    "%%bash\n",
    "earthengine authenticate --authorization-code="
   ]
  },
  {
   "cell_type": "code",
   "execution_count": 3,
   "metadata": {},
   "outputs": [
    {
     "name": "stdout",
     "output_type": "stream",
     "text": [
      "The Earth Engine package initialized successfully!\n"
     ]
    }
   ],
   "source": [
    "import ee\n",
    "\n",
    "try:\n",
    "  ee.Initialize()\n",
    "  print('The Earth Engine package initialized successfully!')\n",
    "except ee.EEException as e:\n",
    "  print('The Earth Engine package failed to initialize!')\n",
    "except:\n",
    "    print(\"Unexpected error:\", sys.exc_info()[0])\n",
    "    raise\n",
    "\n",
    "ee.Initialize()"
   ]
  },
  {
   "cell_type": "code",
   "execution_count": 4,
   "metadata": {
    "collapsed": true
   },
   "outputs": [],
   "source": [
    "import numpy as np\n",
    "import time\n",
    "import shutil"
   ]
  },
  {
   "cell_type": "code",
   "execution_count": 6,
   "metadata": {},
   "outputs": [],
   "source": [
    "sensor = 'S2'#L8\n",
    "res = 'hig'#mid,low\n",
    "\n",
    "geometry = [[87.802734375,26.745610382199025],\n",
    "[88.1103515625,21.08450008351735],\n",
    "[93.1640625,20.3034175184893],\n",
    "[92.7685546875,26.627818226393046],\n",
    "[87.802734375,26.745610382199025]]\n",
    "\n",
    "polygon = ee.Geometry.Polygon(geometry)\n",
    "\n",
    "if sensor == 'S2':\n",
    "    collection = ee.ImageCollection('COPERNICUS/S2')\n",
    "elif sensor == 'L8':\n",
    "    collection = ee.ImageCollection('LANDSAT/LC8_SR')#//LANDSAT/LC8_L1T_TOA_FMASK')\n",
    "    \n",
    "filtered = collection.filterDate('2017-01-01', '2017-03-30').filterBounds(polygon)\n",
    "perc = collection.reduce(ee.Reducer.percentile([10]))\n",
    "\n",
    "if res == 'hig':\n",
    "    result = perc.select('B4_p10', 'B3_p10', 'B2_p10', 'B8_p10')\n",
    "elif res == 'mid':\n",
    "    result = perc.select('B5_p10', 'B6_p10', 'B7_p10')\n",
    "\n",
    "if res == hig:\n",
    "    scl = 10\n",
    "elif res == mid:\n",
    "    scl = 20\n",
    "    \n",
    "task = ee.batch.Export.image.toCloudStorage(result, fileNamePrefix='bngldsh_'+res+'_', bucket='testbucket_ron', scale=scl, maxPixels=99524201457, region=geometry)"
   ]
  },
  {
   "cell_type": "code",
   "execution_count": 7,
   "metadata": {
    "collapsed": true
   },
   "outputs": [],
   "source": [
    "task.start()"
   ]
  },
  {
   "cell_type": "code",
   "execution_count": null,
   "metadata": {
    "collapsed": true
   },
   "outputs": [],
   "source": []
  }
 ],
 "metadata": {
  "kernelspec": {
   "display_name": "Python 3",
   "language": "python",
   "name": "python3"
  },
  "language_info": {
   "codemirror_mode": {
    "name": "ipython",
    "version": 3
   },
   "file_extension": ".py",
   "mimetype": "text/x-python",
   "name": "python",
   "nbconvert_exporter": "python",
   "pygments_lexer": "ipython3",
   "version": "3.5.4"
  }
 },
 "nbformat": 4,
 "nbformat_minor": 2
}
