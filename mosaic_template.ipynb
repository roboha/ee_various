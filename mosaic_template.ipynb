{
 "cells": [
  {
   "cell_type": "code",
   "execution_count": 1,
   "metadata": {},
   "outputs": [
    {
     "name": "stdout",
     "output_type": "stream",
     "text": [
      "Paste the following address into a web browser:\n",
      "\n",
      "    https://accounts.google.com/o/oauth2/auth?redirect_uri=urn%3Aietf%3Awg%3Aoauth%3A2.0%3Aoob&client_id=517222506229-vsmmajv00ul0bs7p89v5m89qs8eb9359.apps.googleusercontent.com&response_type=code&scope=https%3A%2F%2Fwww.googleapis.com%2Fauth%2Fearthengine+https%3A%2F%2Fwww.googleapis.com%2Fauth%2Fdevstorage.full_control\n",
      "\n",
      "On the web page, please authorize access to your Earth Engine account and copy the authentication code. Next authenticate with the following command:\n",
      "\n",
      "    earthengine authenticate --authorization-code=PLACE_AUTH_CODE_HERE\n",
      "\n"
     ]
    }
   ],
   "source": [
    "%%bash\n",
    "earthengine authenticate --quiet"
   ]
  },
  {
   "cell_type": "code",
   "execution_count": 2,
   "metadata": {},
   "outputs": [
    {
     "name": "stdout",
     "output_type": "stream",
     "text": [
      "\n",
      "Successfully saved authorization token.\n"
     ]
    }
   ],
   "source": [
    "%%bash\n",
    "earthengine authenticate --authorization-code="
   ]
  },
  {
   "cell_type": "code",
   "execution_count": 3,
   "metadata": {},
   "outputs": [
    {
     "name": "stdout",
     "output_type": "stream",
     "text": [
      "The Earth Engine package initialized successfully!\n"
     ]
    }
   ],
   "source": [
    "import ee\n",
    "\n",
    "try:\n",
    "  ee.Initialize()\n",
    "  print('The Earth Engine package initialized successfully!')\n",
    "except ee.EEException as e:\n",
    "  print('The Earth Engine package failed to initialize!')\n",
    "except:\n",
    "    print(\"Unexpected error:\", sys.exc_info()[0])\n",
    "    raise\n",
    "\n",
    "ee.Initialize()"
   ]
  },
  {
   "cell_type": "code",
   "execution_count": 4,
   "metadata": {
    "collapsed": true
   },
   "outputs": [],
   "source": [
    "import numpy as np\n",
    "import time\n",
    "import shutil"
   ]
  },
  {
   "cell_type": "code",
   "execution_count": 30,
   "metadata": {
    "collapsed": true
   },
   "outputs": [],
   "source": [
    "sensor = 'S2'#L8\n",
    "res = 'mid'#hig,mid,ls"
   ]
  },
  {
   "cell_type": "code",
   "execution_count": 31,
   "metadata": {
    "collapsed": true
   },
   "outputs": [],
   "source": [
    "loc = 'bra'\n",
    "if loc == 'bra':\n",
    "    geometry = [[-44, 1],[-50, 1], [-50,-5], [-44,-5], [-44, 1]]\n",
    "elif loc == 'bngldsh':\n",
    "    geometry = [[87.802734375,26.745610382199025],\n",
    "    [88.1103515625,21.08450008351735],\n",
    "    [93.1640625,20.3034175184893],\n",
    "    [92.7685546875,26.627818226393046],\n",
    "    [87.802734375,26.745610382199025]]\n",
    "elif loc == 'cmbd':\n",
    "    geometry =[\n",
    "            [\n",
    "              102.216796875,\n",
    "              14.455958231194037\n",
    "            ],\n",
    "            [\n",
    "              102.50244140624999,\n",
    "              10.35815140094367\n",
    "            ],\n",
    "            [\n",
    "              104.87548828125,\n",
    "              8.146242825034385\n",
    "            ],\n",
    "            [\n",
    "              109.92919921875,\n",
    "              11.609193407938953\n",
    "            ],\n",
    "            [\n",
    "              109.6875,\n",
    "              14.902321826141808\n",
    "            ],\n",
    "            [\n",
    "              102.216796875,\n",
    "              14.455958231194037\n",
    "            ]\n",
    "          ]"
   ]
  },
  {
   "cell_type": "code",
   "execution_count": 32,
   "metadata": {},
   "outputs": [],
   "source": [
    "polygon = ee.Geometry.Polygon(geometry)\n",
    "\n",
    "if sensor == 'S2':\n",
    "    collection = ee.ImageCollection('COPERNICUS/S2')\n",
    "elif sensor == 'L8':\n",
    "    collection = ee.ImageCollection('LANDSAT/LC8_SR')#//LANDSAT/LC8_L1T_TOA_FMASK')\n",
    "    \n",
    "    def addMasked(image):\n",
    "        FMASK_CLOUD = 4\n",
    "        FMASK_CLOUD_SHADOW = 2\n",
    "        fmask = image.select('cfmask')\n",
    "        #cloudMask = fmask.neq(FMASK_CLOUD).and(fmask.neq(FMASK_CLOUD_SHADOW))\n",
    "        cloudMask = fmask.neq(FMASK_CLOUD) and fmask.neq(FMASK_CLOUD_SHADOW)\n",
    "        maskedimage = image.updateMask(cloudMask)\n",
    "        return maskedimage    \n",
    "    collection = collection.map(addMasked)\n",
    "    \n",
    "filtered = collection.filterDate('2016-05-01', '2016-11-30').filterBounds(polygon)\n",
    "# 1.1-30.3.2017 for bngldsh, 10th percentile\n",
    "# 2016-05-01', '2016-11-30, 5th percentile for brazil\n",
    "\n",
    "prc = 5\n",
    "perc = collection.reduce(ee.Reducer.percentile([prc]))\n",
    "prc = str(prc)\n",
    "\n",
    "if res == 'hig':\n",
    "    scl = 10\n",
    "    result = perc.select('B4_p'+prc, 'B3_p'+prc, 'B2_p'+prc, 'B8_p'+prc)\n",
    "elif res == 'mid':\n",
    "    scl = 20\n",
    "    result = perc.select('B5_p'+prc, 'B6_p'+prc, 'B7_p'+prc)\n",
    "elif res == 'ls':\n",
    "    scl = 30\n",
    "    result = perc.select('B2_p'+prc, 'B3_p'+prc, 'B4_p'+prc, 'B5_p'+prc, 'B6_p'+prc, 'B7_p'+prc)\n",
    "    \n",
    "task = ee.batch.Export.image.toCloudStorage(result, fileNamePrefix=loc+'_'+res+'_', bucket='testbucket_ron', scale=scl, maxPixels=99524201457, region=geometry)"
   ]
  },
  {
   "cell_type": "code",
   "execution_count": 33,
   "metadata": {
    "collapsed": true
   },
   "outputs": [],
   "source": [
    "task.start()"
   ]
  },
  {
   "cell_type": "code",
   "execution_count": null,
   "metadata": {
    "collapsed": true
   },
   "outputs": [],
   "source": []
  }
 ],
 "metadata": {
  "kernelspec": {
   "display_name": "Python 3",
   "language": "python",
   "name": "python3"
  },
  "language_info": {
   "codemirror_mode": {
    "name": "ipython",
    "version": 3
   },
   "file_extension": ".py",
   "mimetype": "text/x-python",
   "name": "python",
   "nbconvert_exporter": "python",
   "pygments_lexer": "ipython3",
   "version": "3.5.4"
  }
 },
 "nbformat": 4,
 "nbformat_minor": 2
}
