{
 "cells": [
  {
   "cell_type": "code",
   "execution_count": null,
   "metadata": {
    "collapsed": true
   },
   "outputs": [],
   "source": [
    "REFERENCE_LOC = '/scripts/data/polygons/digi.shp'\n",
    "fieldname = 'TYPE'\n",
    "RASTERSTACK = '/data/Hdd1/SUMATRA.vrt'\n",
    "OUTPUTFOLDER = '/data/generated'\n",
    "\n",
    "mode = 'ne'\n",
    "scl = 400/2"
   ]
  },
  {
   "cell_type": "code",
   "execution_count": null,
   "metadata": {},
   "outputs": [],
   "source": [
    "%%bash\n",
    "earthengine authenticate --quiet"
   ]
  },
  {
   "cell_type": "code",
   "execution_count": null,
   "metadata": {},
   "outputs": [],
   "source": [
    "%%bash\n",
    "earthengine authenticate --authorization-code="
   ]
  },
  {
   "cell_type": "code",
   "execution_count": null,
   "metadata": {},
   "outputs": [],
   "source": [
    "import ee\n",
    "\n",
    "if mode == 'ee':    \n",
    "    try:\n",
    "      ee.Initialize()\n",
    "      print('The Earth Engine package initialized successfully!')\n",
    "    except ee.EEException as e:\n",
    "      print('The Earth Engine package failed to initialize!')\n",
    "    except:\n",
    "        print(\"Unexpected error:\", sys.exc_info()[0])\n",
    "        raise\n",
    "\n",
    "    ee.Initialize()"
   ]
  },
  {
   "cell_type": "code",
   "execution_count": null,
   "metadata": {
    "collapsed": true
   },
   "outputs": [],
   "source": [
    "sentinel1 = ee.ImageCollection('COPERNICUS/S1_GRD')\n",
    "vh = sentinel1\n",
    "  // Filter to get images with VV and VH dual polarization.\n",
    "  .filter(ee.Filter.listContains('transmitterReceiverPolarisation', 'VV'))\n",
    "  .filter(ee.Filter.listContains('transmitterReceiverPolarisation', 'VH'))\n",
    "  // Filter to get images collected in interferometric wide swath mode.\n",
    "  .filter(ee.Filter.eq('instrumentMode', 'IW'));\n",
    "vh = sentinel1.filter(ee.Filter.listContains('transmitterReceiverPolarisation', 'VV')).filter(ee.Filter.listContains('transmitterReceiverPolarisation', 'VH')).filter(ee.Filter.eq('instrumentMode', 'IW'))\n",
    "vhDescending = vh.filter(ee.Filter.eq('orbitProperties_pass', 'DESCENDING'));\n",
    "\n",
    "composite = ee.Image.cat([\n",
    "  vhDescending.select('VH').mean(),\n",
    "  ee.ImageCollection(vhDescending.select('VV').merge(vhDescending.select('VV'))).mean(),\n",
    "  vhDescending.select('VH').mean()\n",
    "]).focal_median()\n"
   ]
  },
  {
   "cell_type": "code",
   "execution_count": null,
   "metadata": {
    "collapsed": true
   },
   "outputs": [],
   "source": [
    "import numpy as np\n",
    "from shapely import geometry\n",
    "from fiona.crs import from_epsg\n",
    "from fiona import collection\n",
    "import fiona\n",
    "import utm\n",
    "import subprocess\n",
    "from osgeo import gdal"
   ]
  },
  {
   "cell_type": "code",
   "execution_count": null,
   "metadata": {
    "collapsed": true
   },
   "outputs": [],
   "source": [
    "#src = fiona.open('/run/media/ron/Hdd1/reference_data/digi.shp')\n",
    "src = fiona.open(REFERENCE_LOC)\n",
    "schema = { 'geometry': 'Polygon', 'properties': { 'name': 'str' } }"
   ]
  },
  {
   "cell_type": "code",
   "execution_count": null,
   "metadata": {},
   "outputs": [],
   "source": [
    "with collection(OUTPUTFOLDER + \"/some35.geojson\", \"w\", \"GeoJSON\", schema=schema) as output:\n",
    "    for f in src:\n",
    "        polygon = f['geometry']['coordinates'][0]#f[0]['geometry']['coordinates']\n",
    "        P = geometry.Polygon([p for p in polygon])\n",
    "        C = P.centroid\n",
    "        U = utm.from_latlon(C.y, C.x)\n",
    "        P = geometry.point.Point(U) \n",
    "        B = P.centroid.buffer(scl, cap_style=3)        \n",
    "        eh = geometry.mapping(B)\n",
    "        wgsbuffs = []\n",
    "        for i, hm in enumerate(eh['coordinates'][0]):\n",
    "            try:\n",
    "                coords = utm.to_latlon(hm[0], hm[1], U[2], U[3])\n",
    "                wgsbuffs.append(coords)\n",
    "            except:\n",
    "                print('ha')               \n",
    "\n",
    "        if len(wgsbuffs) == 5:\n",
    "            P2 = geometry.Polygon([(p[1],p[0]) for p in wgsbuffs])    \n",
    "            output.write({\n",
    "                'properties': {\n",
    "                    'name': 'bla'\n",
    "                },\n",
    "                'geometry': geometry.mapping(P2)\n",
    "                })\n",
    "            \n",
    "            newpoly = [[w[1],w[0]] for w in wgsbuffs]\n",
    "            \n",
    "            outraster = 'Y' + str(int(C.y)) + 'X' + str(int(C.x))\n",
    "            if mode == 'ee':\n",
    "                task = ee.batch.Export.image.toDrive(composite, 'hm/' + outraster, scale=10, region=newpoly)\n",
    "                task.start()\n",
    "                \n",
    "            elif mode == 'ne':                \n",
    "                ulx = np.min(np.array(newpoly),0)[0]\n",
    "                uly = np.max(np.array(newpoly),0)[1]\n",
    "                lrx = np.max(np.array(newpoly),0)[0]\n",
    "                lry = np.min(np.array(newpoly),0)[1]\n",
    "                print(ulx)\n",
    "                print(uly)\n",
    "                print(lrx)\n",
    "                print(lry)\n",
    "                # use coordinates and gdal_translate to reduce raster stack\n",
    "                subprocess.call(['gdal_translate', '-projwin', str(ulx), str(uly), str(lrx), str(lry), RASTERSTACK, OUTPUTFOLDER + '/' + outraster + '.tif'])"
   ]
  },
  {
   "cell_type": "code",
   "execution_count": null,
   "metadata": {
    "collapsed": true
   },
   "outputs": [],
   "source": [
    "import glob\n",
    "rasterfilenames = glob.glob(OUTPUTFOLDER + '/*.tif')"
   ]
  },
  {
   "cell_type": "code",
   "execution_count": null,
   "metadata": {},
   "outputs": [],
   "source": [
    "for r in rasterfilenames:\n",
    "    referencerasterloc = r\n",
    "    outputname = r[:-4] + '_y.tif'    \n",
    "\n",
    "    Shp_src = ogr.Open(REFERENCE_LOC)\n",
    "    Ras_src = gdal.Open(referencerasterloc)\n",
    "    rasterdriver = gdal.GetDriverByName('GTiff')\n",
    "\n",
    "    new_raster = rasterdriver.Create(outputname, Ras_src.GetRasterBand(1).XSize, Ras_src.GetRasterBand(1).YSize, 1, gdal.GDT_Byte)\n",
    "    new_raster.SetProjection(Ras_src.GetProjection())\n",
    "    new_raster.SetGeoTransform(Ras_src.GetGeoTransform())\n",
    "\n",
    "    Shp_lyr = Shp_src.GetLayer()\n",
    "    gdal.RasterizeLayer(new_raster, [1], Shp_lyr, None, None, [1], ['ATTRIBUTE='+fieldname])"
   ]
  }
 ],
 "metadata": {
  "kernelspec": {
   "display_name": "Python 3",
   "language": "python",
   "name": "python3"
  },
  "language_info": {
   "codemirror_mode": {
    "name": "ipython",
    "version": 3
   },
   "file_extension": ".py",
   "mimetype": "text/x-python",
   "name": "python",
   "nbconvert_exporter": "python",
   "pygments_lexer": "ipython3",
   "version": "3.5.4"
  }
 },
 "nbformat": 4,
 "nbformat_minor": 2
}
